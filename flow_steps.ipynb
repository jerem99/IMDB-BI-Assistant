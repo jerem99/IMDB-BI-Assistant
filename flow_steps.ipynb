{
 "cells": [
  {
   "cell_type": "markdown",
   "metadata": {},
   "source": [
    "# PART 1: Connect to the SQLite IMDB Database\n",
    "\n",
    "To establish a connection with the SQLite IMDB database, the `imdb-sqlite` Python module is utilized. If you haven't installed it yet, you can do so by running the following command:\n",
    "\n",
    "```bash\n",
    "pip install imdb-sqlite\n",
    "```\n",
    "For detailed information and documentation about the imdb-sqlite module, please refer to the official PyPI page: [Link Text](https://pypi.org/project/imdb-sqlite/).\n",
    "\n",
    "This module not only facilitates the connection to the IMDB database but also streamlines the process by automatically renaming columns and adding relevant indexers.\n",
    "\n",
    "Please follow the steps in the documentation how to download the dataset into a db file."
   ]
  },
  {
   "cell_type": "code",
   "execution_count": 1,
   "metadata": {},
   "outputs": [],
   "source": [
    "import sqlite3\n",
    "\n",
    "# Replace 'your_database_file.db' with the actual name of your SQLite database file\n",
    "db_file = 'imdb.db'\n",
    "\n",
    "\n",
    "def execute_query(query: str):\n",
    "    connection = sqlite3.connect(db_file)\n",
    "    # Create a cursor object to execute SQL queries\n",
    "    cursor = connection.cursor()\n",
    "    # Execute the query\n",
    "    cursor.execute(query)\n",
    "\n",
    "    results = cursor.fetchall()\n",
    "    for result in results:\n",
    "        print(result)\n",
    "\n",
    "    # Close the cursor and the connection\n",
    "    cursor.close()\n",
    "    connection.close()"
   ]
  },
  {
   "cell_type": "markdown",
   "metadata": {},
   "source": [
    "Verify that the tables are successfully loaded"
   ]
  },
  {
   "cell_type": "code",
   "execution_count": 2,
   "metadata": {},
   "outputs": [
    {
     "name": "stdout",
     "output_type": "stream",
     "text": [
      "('people',)\n",
      "('titles',)\n",
      "('akas',)\n",
      "('crew',)\n",
      "('episodes',)\n",
      "('ratings',)\n",
      "('sqlite_stat1',)\n"
     ]
    }
   ],
   "source": [
    "table_query = \"SELECT name FROM sqlite_master WHERE type='table';\"\n",
    "\n",
    "execute_query(table_query)"
   ]
  },
  {
   "cell_type": "markdown",
   "metadata": {},
   "source": [
    "# PART 2: Analyzing IMDB Data with SQL Queries\n",
    "\n",
    "In this section, we aim to obtain responses to the following questions using SQL queries. These responses will serve as valuable benchmarks for future comparisons with the assistance of the Language Model (LLM):\n",
    "\n",
    "1. **How many movies were released in the last year?**\n",
    "   \n",
    "2. **How many actors were born in the year 2001?**\n",
    "   \n",
    "3. **What is the language of the movie \"Pulp Fiction\"?**\n",
    "   \n",
    "4. **What is the series with the most episodes?**\n",
    "   \n",
    "5. **In how many horror movies did Sean Connery perform?**\n",
    "\n"
   ]
  },
  {
   "cell_type": "markdown",
   "metadata": {},
   "source": [
    "Some index that help for performance"
   ]
  },
  {
   "cell_type": "code",
   "execution_count": null,
   "metadata": {},
   "outputs": [],
   "source": [
    "connection = sqlite3.connect(db_file)\n",
    "cursor = connection.cursor()\n",
    "\n",
    "\n",
    "cursor.execute(\"CREATE INDEX idx_people_born ON people(born);\")\n",
    "cursor.execute(\"CREATE INDEX idx_people_person_id ON people(person_id);\")\n",
    "cursor.execute(\"CREATE INDEX idx_crew_person_id ON crew(person_id);\")\n",
    "cursor.execute(\"CREATE INDEX idx_crew_category ON crew(category);\")\n",
    "cursor.execute(\"CREATE INDEX idx_titles_title_id ON titles(title_id);\")\n",
    "cursor.execute(\"CREATE INDEX idx_episodes_show_title_id ON episodes(show_title_id);\")\n",
    "cursor.execute(\"CREATE INDEX idx_titles_type ON titles(type);\")\n",
    "\n",
    "# Commit the changes\n",
    "connection.commit()"
   ]
  },
  {
   "cell_type": "code",
   "execution_count": 4,
   "metadata": {},
   "outputs": [
    {
     "name": "stdout",
     "output_type": "stream",
     "text": [
      "(18337,)\n"
     ]
    }
   ],
   "source": [
    "movies_count_query = \"\"\"\n",
    "    SELECT count(*) FROM titles t \n",
    "    WHERE  t.premiered = 2023 AND type = \"movie\"\n",
    "\"\"\"\n",
    "execute_query(movies_count_query)\n"
   ]
  },
  {
   "cell_type": "code",
   "execution_count": 20,
   "metadata": {},
   "outputs": [
    {
     "name": "stdout",
     "output_type": "stream",
     "text": [
      "539\n"
     ]
    }
   ],
   "source": [
    "\n",
    "actors_count_query = \"\"\"\n",
    "    SELECT COUNT(*) FROM people \n",
    "    WHERE born = 2001 AND person_id IN (SELECT DISTINCT person_id FROM crew WHERE category = 'actor')\n",
    "\"\"\"\n",
    "\n",
    "execute_query(actors_count_query)\n"
   ]
  },
  {
   "cell_type": "code",
   "execution_count": 31,
   "metadata": {},
   "outputs": [
    {
     "name": "stdout",
     "output_type": "stream",
     "text": [
      "(None,)\n"
     ]
    }
   ],
   "source": [
    "pulp_fiction_query = \"\"\"\n",
    "    SELECT akas.language \n",
    "    FROM akas \n",
    "    INNER JOIN titles ON akas.title_id = titles.title_id \n",
    "    WHERE titles.primary_title = \"Pulp Fiction\" \n",
    "        AND titles.type = \"movie\" \n",
    "        AND akas.is_original_title = 1;\n",
    "\"\"\"\n",
    "execute_query(pulp_fiction_query)\n"
   ]
  },
  {
   "cell_type": "markdown",
   "metadata": {},
   "source": [
    "After inspection, we saw that the \"Pulp Fiction\" movie has a None value in its language field. This indicates that we are unable to retrieve the original language of the movie from the available data. The most values of the language column is missing."
   ]
  },
  {
   "cell_type": "code",
   "execution_count": 32,
   "metadata": {},
   "outputs": [
    {
     "name": "stdout",
     "output_type": "stream",
     "text": [
      "('tt0110912', 'Pulp Fiction', None, None, 'original', None, 1, 'tt0110912', 'movie', 'Pulp Fiction', 'Pulp Fiction', 0, 1994, None, 154, 'Crime,Drama')\n"
     ]
    }
   ],
   "source": [
    "pulp_fiction_query = \"\"\"\n",
    "    SELECT * \n",
    "    FROM akas \n",
    "    INNER JOIN titles ON akas.title_id = titles.title_id \n",
    "    WHERE titles.primary_title = \"Pulp Fiction\" AND titles.type = \"movie\" AND akas.is_original_title = 1;\n",
    "\"\"\"\n",
    "execute_query(pulp_fiction_query)"
   ]
  },
  {
   "cell_type": "code",
   "execution_count": 33,
   "metadata": {},
   "outputs": [
    {
     "name": "stdout",
     "output_type": "stream",
     "text": [
      "('NRK Nyheter', 18593)\n",
      "('Days of Our Lives', 14884)\n",
      "('The Young and the Restless', 13046)\n",
      "('General Hospital', 12846)\n",
      "('Coronation Street', 10761)\n"
     ]
    }
   ],
   "source": [
    "# SQL query to count the number of episodes for each TV series and retrieve the top 5\n",
    "series_query = \"\"\"\n",
    "    SELECT titles.primary_title, COUNT(episodes.episode_title_id) AS num_episodes\n",
    "    FROM titles\n",
    "    INNER JOIN episodes ON titles.title_id = episodes.show_title_id\n",
    "    WHERE titles.type = \"tvSeries\"\n",
    "    GROUP BY titles.primary_title\n",
    "    ORDER BY num_episodes DESC\n",
    "    LIMIT 5;\n",
    "\"\"\"\n",
    "\n",
    "execute_query(series_query)\n",
    "  "
   ]
  },
  {
   "cell_type": "code",
   "execution_count": 34,
   "metadata": {},
   "outputs": [
    {
     "name": "stdout",
     "output_type": "stream",
     "text": [
      "(0,)\n"
     ]
    }
   ],
   "source": [
    "\n",
    "sean_connery_query = \"\"\"\n",
    "SELECT count(*) FROM titles t \n",
    "INNER JOIN crew c ON t.title_id = c.title_id \n",
    "INNER JOIN people p ON c.person_id = p.person_id \n",
    "WHERE  p.name = \"Sean Connery\" AND t.type = \"movie\" AND t.genres like \"%Horror%\"\n",
    "\n",
    "\"\"\"\n",
    "\n",
    "execute_query(sean_connery_query)"
   ]
  },
  {
   "cell_type": "markdown",
   "metadata": {},
   "source": [
    "# Summary of Query Responses\n",
    "\n",
    "1. **How many movies were released in the last year?**\n",
    "   - **Response:** 18337\n",
    "\n",
    "2. **How many actors were born in the year 2001?**\n",
    "   - **Response:** 539\n",
    "\n",
    "3. **What is the language of the movie \"Pulp Fiction\"?**\n",
    "   - **Response:** Missing data\n",
    "\n",
    "4. **What is the series with the most episodes?**\n",
    "   - **Response:**\n",
    "     - ('NRK Nyheter', 18593)\n",
    "     - ('Days of Our Lives', 14884)\n",
    "     - ('The Young and the Restless', 13046)\n",
    "     - ('General Hospital', 12846)\n",
    "     - ('Coronation Street', 10761)\n",
    "\n",
    "5. **In how many horror movies did Sean Connery perform?**\n",
    "   - **Response:** 0\n"
   ]
  },
  {
   "cell_type": "markdown",
   "metadata": {},
   "source": [
    "# PART 3: Utilizing Langchain with 'SQLDatabaseChain' for Querying Plain Text Questions\n",
    "\n",
    "In this section, we explore the integration of Langchain, specifically utilizing the 'SQLDatabaseChain' for obtaining responses from plain text questions."
   ]
  },
  {
   "cell_type": "code",
   "execution_count": 3,
   "metadata": {},
   "outputs": [],
   "source": [
    "from langchain_community.utilities import SQLDatabase\n",
    "from langchain_experimental.sql import SQLDatabaseChain\n",
    "from langchain_openai import OpenAI\n",
    "\n",
    "\n",
    "db = SQLDatabase.from_uri(\"sqlite:///imdb.db\")\n",
    "# the default model used: gpt-3.5-turbo-instruct\n",
    "llm = OpenAI(api_key='{your_API_key}',temperature=0, verbose=True)\n",
    "db_chain = SQLDatabaseChain.from_llm(llm, db, verbose=True)"
   ]
  },
  {
   "cell_type": "code",
   "execution_count": 6,
   "metadata": {},
   "outputs": [
    {
     "name": "stdout",
     "output_type": "stream",
     "text": [
      "\n",
      "\n",
      "\u001b[1m> Entering new SQLDatabaseChain chain...\u001b[0m\n",
      "What is the series with the most episodes?\n",
      "SQLQuery:\u001b[32;1m\u001b[1;3mSELECT titles.primary_title, COUNT(episodes.episode_title_id) AS num_episodes\n",
      "FROM titles\n",
      "INNER JOIN episodes ON titles.title_id = episodes.show_title_id\n",
      "WHERE titles.type = \"tvSeries\"\n",
      "GROUP BY titles.primary_title\n",
      "ORDER BY num_episodes DESC\n",
      "LIMIT 1;\u001b[0m\n",
      "SQLResult: \u001b[33;1m\u001b[1;3m[('NRK Nyheter', 18593)]\u001b[0m\n",
      "Answer:\u001b[32;1m\u001b[1;3mNRK Nyheter\u001b[0m\n",
      "\u001b[1m> Finished chain.\u001b[0m\n",
      "NRK Nyheter\n",
      "\n",
      "\n",
      "\u001b[1m> Entering new SQLDatabaseChain chain...\u001b[0m\n",
      "In how many horror movies did Sean Connery perform?\n",
      "SQLQuery:\u001b[32;1m\u001b[1;3mSELECT COUNT(*) FROM titles t\n",
      "INNER JOIN ratings r ON t.title_id = r.title_id\n",
      "INNER JOIN crew c ON t.title_id = c.title_id\n",
      "INNER JOIN people p ON c.person_id = p.person_id\n",
      "WHERE p.name = \"Sean Connery\" AND t.genres LIKE \"%Horror%\"\u001b[0m\n",
      "SQLResult: \u001b[33;1m\u001b[1;3m[(0,)]\u001b[0m\n",
      "Answer:\u001b[32;1m\u001b[1;3m0\u001b[0m\n",
      "\u001b[1m> Finished chain.\u001b[0m\n",
      "0\n",
      "\n",
      "\n",
      "\u001b[1m> Entering new SQLDatabaseChain chain...\u001b[0m\n",
      "What is the language of the movie 'Pulp Fiction'?\n",
      "SQLQuery:\u001b[32;1m\u001b[1;3mSELECT akas.language FROM akas INNER JOIN titles ON akas.title_id = titles.title_id WHERE titles.primary_title = 'Pulp Fiction' LIMIT 5\u001b[0m\n",
      "SQLResult: \u001b[33;1m\u001b[1;3m[(None,), (None,), (None,), (None,), (None,)]\u001b[0m\n",
      "Answer:\u001b[32;1m\u001b[1;3mNone\u001b[0m\n",
      "\u001b[1m> Finished chain.\u001b[0m\n",
      "None\n",
      "\n",
      "\n",
      "\u001b[1m> Entering new SQLDatabaseChain chain...\u001b[0m\n",
      "How many actors were born in the year 2001?\n",
      "SQLQuery:\u001b[32;1m\u001b[1;3mSELECT COUNT(*) FROM people WHERE born = 2001 AND person_id IN (SELECT person_id FROM crew)\u001b[0m\n",
      "SQLResult: \u001b[33;1m\u001b[1;3m[(1391,)]\u001b[0m\n",
      "Answer:\u001b[32;1m\u001b[1;3m1391\u001b[0m\n",
      "\u001b[1m> Finished chain.\u001b[0m\n",
      "1391\n",
      "\n",
      "\n",
      "\u001b[1m> Entering new SQLDatabaseChain chain...\u001b[0m\n",
      "How many movies were released in the last year?\n",
      "SQLQuery:\u001b[32;1m\u001b[1;3mSELECT COUNT(*) FROM titles WHERE premiered = 2022 AND type = \"movie\"\u001b[0m\n",
      "SQLResult: \u001b[33;1m\u001b[1;3m[(19935,)]\u001b[0m\n",
      "Answer:\u001b[32;1m\u001b[1;3m19935\u001b[0m\n",
      "\u001b[1m> Finished chain.\u001b[0m\n",
      "19935\n"
     ]
    }
   ],
   "source": [
    "questions = {\"How many movies were released in the last year?\", \n",
    "             \"How many actors were born in the year 2001?\", \n",
    "             \"What is the language of the movie 'Pulp Fiction'?\", \n",
    "             \"What is the series with the most episodes?\", \n",
    "             \"In how many horror movies did Sean Connery perform?\"}\n",
    "\n",
    "for question in questions:\n",
    "    result = db_chain.invoke(question)\n",
    "    print(result['result'])"
   ]
  },
  {
   "cell_type": "markdown",
   "metadata": {},
   "source": [
    "# Analysis of LLM Query Responses\n",
    "\n",
    "In reviewing the results of the queries generated by the Language Model (LLM), we observed commendable accuracy in converting plain text to SQL. However, there are instances where the LLM provided incorrect responses. Let's delve into the reasons and propose improvements:\n",
    "\n",
    "## 1. \"How many movies were released in the last year?\"\n",
    "\n",
    "The LLM appears to assume the current year is 2023 instead of 2024, impacting the interpretation of the query.\n",
    "\n",
    "- **Cause:** Lack of connection to the timeline.\n",
    "- **Improvement:** Instruct the LLM to use the current date function when the question is relevant to time.\n",
    "\n",
    "## 2. \"How many actors were born in the year 2001?\"\n",
    "\n",
    "The LLM fails to specify that the query is specifically about actors, indicating a potential information gap in the crew table schema.\n",
    "\n",
    "- **Cause:** Insufficient information in the crew table schema.\n",
    "- **Improvement:** Enhance the prompt by providing more details about the crew table, such as possible values for the Category column.\n",
    "\n",
    "## 3. \"What is the language of the movie 'Pulp Fiction'?\"\n",
    "\n",
    "While the LLM gives a correct answer, examining the generated SQL reveals a lack of precision regarding that it not used the column is_original_title.\n",
    "\n",
    "- **Cause:** Inadequate information in the titles table schema.\n",
    "- **Improvement:** Enrich the prompt with additional details about the titles table, including possible values for the type column and explanation about the is_original_title column.\n",
    "\n",
    "By addressing these specific causes and making prompt enhancements, we can guide the LLM toward more accurate and context-aware responses.\n",
    "\n",
    "-----------------------------------------------------------------------------------------"
   ]
  },
  {
   "cell_type": "markdown",
   "metadata": {},
   "source": [
    "# PART 4: Improve the LLM \n",
    "\n",
    "In this section, we will explore modifications to the Language Model's prompt to provide additional information, thereby improving its ability to generate accurate answers."
   ]
  },
  {
   "cell_type": "markdown",
   "metadata": {},
   "source": [
    "Let's retrieve the distinct values possible for the 'Category' column in the 'Crew' table."
   ]
  },
  {
   "cell_type": "code",
   "execution_count": 10,
   "metadata": {},
   "outputs": [
    {
     "name": "stdout",
     "output_type": "stream",
     "text": [
      "('actor',)\n",
      "('actress',)\n",
      "('archive_footage',)\n",
      "('archive_sound',)\n",
      "('cinematographer',)\n",
      "('composer',)\n",
      "('director',)\n",
      "('editor',)\n",
      "('producer',)\n",
      "('production_designer',)\n",
      "('self',)\n",
      "('writer',)\n"
     ]
    }
   ],
   "source": [
    "category_query = \"SELECT DISTINCT category FROM crew\"\n",
    "\n",
    "# Execute the query\n",
    "execute_query(category_query)"
   ]
  },
  {
   "cell_type": "markdown",
   "metadata": {},
   "source": [
    "Let's retrieve the distinct values possible for the 'type' column in the 'titles' table."
   ]
  },
  {
   "cell_type": "code",
   "execution_count": 11,
   "metadata": {},
   "outputs": [
    {
     "name": "stdout",
     "output_type": "stream",
     "text": [
      "('movie',)\n",
      "('short',)\n",
      "('tvEpisode',)\n",
      "('tvMiniSeries',)\n",
      "('tvMovie',)\n",
      "('tvPilot',)\n",
      "('tvSeries',)\n",
      "('tvShort',)\n",
      "('tvSpecial',)\n",
      "('video',)\n",
      "('videoGame',)\n"
     ]
    }
   ],
   "source": [
    "type_query = \"SELECT DISTINCT type FROM titles\"\n",
    "\n",
    "# Execute the query\n",
    "execute_query(type_query)"
   ]
  },
  {
   "cell_type": "markdown",
   "metadata": {},
   "source": [
    "# Steps to Improve the LLM\n",
    "\n",
    "To enhance the precision of the Language Model (LLM), I have implemented the following steps:\n",
    "\n",
    "1. **Retrieve Prompt Template:**\n",
    "   - I extracted the prompt template from the Langchain code to better understand the existing structure.\n",
    "\n",
    "2. **Modify Table Information:**\n",
    "   - I made adjustments to the information available to the LLM by adding the following lines to the 'crew' and 'titles' tables:\n",
    "     ```sql\n",
    "     category VARCHAR CHECK (category IN ('actor', 'actress', 'archive_footage', 'archive_sound', 'cinematographer', 'composer', 'director', 'editor', 'producer', 'production_designer', 'self', 'writer'))\n",
    "     type VARCHAR CHECK (type IN ('movie', 'short', 'tvEpisode', 'tvMiniSeries', 'tvMovie', 'tvPilot', 'tvSeries', 'tvShort', 'tvSpecial', 'video', 'videoGame'))\n",
    "     ```\n",
    "     These additions aim to provide the model with a better understanding of the data.\n",
    "\n",
    "3. **Incorporate Date Information:**\n",
    "   - To ensure the LLM is aware of the current date, I utilized the 'partial_variables' parameter, passing it the `_get_datetime()` method.\n",
    "   - Additionally, I included the following in the prompt: `'The current date is {date}.'`, guiding the LLM to utilize the provided method.\n",
    "\n",
    "By implementing these steps, we aim to equip the LLM with more contextual information, enhancing its ability to generate accurate and relevant responses.\n"
   ]
  },
  {
   "cell_type": "code",
   "execution_count": 8,
   "metadata": {},
   "outputs": [],
   "source": [
    "from langchain.prompts import PromptTemplate\n",
    "\n",
    "from datetime import datetime\n",
    "\n",
    "\n",
    "def _get_datetime():\n",
    "    now = datetime.now()\n",
    "    return now.strftime(\"%m/%d/%Y, %H:%M:%S\")\n",
    "\n",
    "PROMPT_SUFFIX = \"\"\"Only use the following tables:\n",
    "CREATE TABLE akas (\n",
    "\ttitle_id VARCHAR, \n",
    "\ttitle VARCHAR, \n",
    "\tregion VARCHAR, \n",
    "\tlanguage VARCHAR, \n",
    "\ttypes VARCHAR, \n",
    "\tattributes VARCHAR, \n",
    "\tis_original_title INTEGER -- this column is to describe if the title is the original language title,  possible values: This column has two possible values, 0 or 1\n",
    ")\n",
    "\n",
    "/*\n",
    "3 rows from akas table:\n",
    "title_id\ttitle\tregion\tlanguage\ttypes\tattributes\tis_original_title\n",
    "tt0000001\tКарменсіта\tUA\tNone\timdbDisplay\tNone\t0\n",
    "tt0000001\tCarmencita\tDE\tNone\tNone\tliteral title\t0\n",
    "tt0000001\tCarmencita - spanyol tánc\tHU\tNone\timdbDisplay\tNone\t0\n",
    "*/\n",
    "\n",
    "\n",
    "CREATE TABLE crew (\n",
    "\ttitle_id VARCHAR, \n",
    "\tperson_id VARCHAR, \n",
    "\tcategory VARCHAR CHECK (category IN ('actor', 'actress', 'archive_footage', 'archive_sound', 'cinematographer', 'composer', 'director', 'editor', 'producer', 'production_designer', 'self', 'writer')), \n",
    "\tjob VARCHAR, \n",
    "\tcharacters VARCHAR\n",
    ")\n",
    "\n",
    "/*\n",
    "3 rows from crew table:\n",
    "title_id\tperson_id\tcategory\tjob\tcharacters\n",
    "tt0000001\tnm1588970\tself\tNone\t[\"Self\"]\n",
    "tt0000001\tnm0005690\tdirector\tNone\tNone\n",
    "tt0000001\tnm0374658\tcinematographer\tdirector of photography\tNone\n",
    "*/\n",
    "\n",
    "\n",
    "CREATE TABLE episodes (\n",
    "\tepisode_title_id VARCHAR, \n",
    "\tshow_title_id VARCHAR, \n",
    "\tseason_number INTEGER, \n",
    "\tepisode_number INTEGER\n",
    ")\n",
    "\n",
    "/*\n",
    "3 rows from episodes table:\n",
    "episode_title_id\tshow_title_id\tseason_number\tepisode_number\n",
    "tt0041951\ttt0041038\t1\t9\n",
    "tt0042816\ttt0989125\t1\t17\n",
    "tt0042889\ttt0989125\tNone\tNone\n",
    "*/\n",
    "\n",
    "\n",
    "CREATE TABLE people (\n",
    "\tperson_id VARCHAR, \n",
    "\tname VARCHAR, \n",
    "\tborn INTEGER, \n",
    "\tdied INTEGER, \n",
    "\tPRIMARY KEY (person_id)\n",
    ")\n",
    "\n",
    "/*\n",
    "3 rows from people table:\n",
    "person_id\tname\tborn\tdied\n",
    "nm0000001\tFred Astaire\t1899\t1987\n",
    "nm0000002\tLauren Bacall\t1924\t2014\n",
    "nm0000003\tBrigitte Bardot\t1934\tNone\n",
    "*/\n",
    "\n",
    "\n",
    "CREATE TABLE ratings (\n",
    "\ttitle_id VARCHAR, \n",
    "\trating INTEGER, \n",
    "\tvotes INTEGER, \n",
    "\tPRIMARY KEY (title_id)\n",
    ")\n",
    "\n",
    "/*\n",
    "3 rows from ratings table:\n",
    "title_id\trating\tvotes\n",
    "tt0000001\t5.7\t2014\n",
    "tt0000002\t5.7\t270\n",
    "tt0000003\t6.5\t1937\n",
    "*/\n",
    "\n",
    "\n",
    "CREATE TABLE titles (\n",
    "\ttitle_id VARCHAR, \n",
    "\ttype VARCHAR CHECK (type IN ('movie', 'short', 'tvEpisode', 'tvMiniSeries', 'tvMovie', 'tvPilot', 'tvSeries', 'tvShort', 'tvSpecial', 'video', 'videoGame')), \n",
    "\tprimary_title VARCHAR, \n",
    "\toriginal_title VARCHAR, \n",
    "\tis_adult INTEGER, \n",
    "\tpremiered INTEGER, \n",
    "\tended INTEGER, \n",
    "\truntime_minutes INTEGER, \n",
    "\tgenres VARCHAR, \n",
    "\tPRIMARY KEY (title_id)\n",
    ")\n",
    "\n",
    "/*\n",
    "3 rows from titles table:\n",
    "title_id\ttype\tprimary_title\toriginal_title\tis_adult\tpremiered\tended\truntime_minutes\tgenres\n",
    "tt0000001\tshort\tCarmencita\tCarmencita\t0\t1894\tNone\t1\tDocumentary,Short\n",
    "tt0000002\tshort\tLe clown et ses chiens\tLe clown et ses chiens\t0\t1892\tNone\t5\tAnimation,Short\n",
    "tt0000003\tshort\tPauvre Pierrot\tPauvre Pierrot\t0\t1892\tNone\t4\tAnimation,Comedy,Romance\n",
    "*/\n",
    "\n",
    "Question: {input}\"\"\"\n",
    "\n",
    "_sqlite_prompt = \"\"\"You are a SQLite expert. Given an input question, first create a syntactically correct SQLite query to run, then look at the results of the query and return the answer to the input question.\n",
    "Unless the user specifies in the question a specific number of examples to obtain, query for at most {top_k} results using the LIMIT clause as per SQLite. You can order the results to return the most informative data in the database.\n",
    "Never query for all columns from a table. You must query only the columns that are needed to answer the question. Wrap each column name in double quotes (\") to denote them as delimited identifiers.\n",
    "Pay attention to use only the column names you can see in the tables below. Be careful to not query for columns that do not exist. Also, pay attention to which column is in which table.\n",
    "The current date is {date}.\n",
    "\n",
    "Use the following format:\n",
    "\n",
    "Question: Question here\n",
    "SQLQuery: SQL Query to run\n",
    "SQLResult: Result of the SQLQuery\n",
    "Answer: Final answer here\n",
    "\n",
    "\"\"\"\n",
    "#Pay attention to use the {date} function to get the current date if the question involves working with date and time information or requires referencing the current date in your SQL queries.\n",
    "\n",
    "SQLITE_PROMPT = PromptTemplate(\n",
    "    input_variables=[\"input\", \"top_k\"],\n",
    "    template=_sqlite_prompt + PROMPT_SUFFIX, partial_variables={\"date\": _get_datetime}\n",
    ")"
   ]
  },
  {
   "cell_type": "code",
   "execution_count": 9,
   "metadata": {},
   "outputs": [],
   "source": [
    "db_chain_with_custom_prompt = SQLDatabaseChain.from_llm(llm, db, verbose=True,return_intermediate_steps=True, prompt=SQLITE_PROMPT)"
   ]
  },
  {
   "cell_type": "markdown",
   "metadata": {},
   "source": [
    "### Now, we will re-run the process using the custom template, and anticipate improved accuracies for the questions"
   ]
  },
  {
   "cell_type": "code",
   "execution_count": 84,
   "metadata": {},
   "outputs": [
    {
     "name": "stdout",
     "output_type": "stream",
     "text": [
      "\n",
      "\n",
      "\u001b[1m> Entering new SQLDatabaseChain chain...\u001b[0m\n",
      "What is the series with the most episodes?\n",
      "SQLQuery:\u001b[32;1m\u001b[1;3mSELECT titles.primary_title, COUNT(episodes.episode_title_id) AS num_episodes\n",
      "FROM titles\n",
      "INNER JOIN episodes ON titles.title_id = episodes.show_title_id\n",
      "WHERE titles.type = 'tvSeries'\n",
      "GROUP BY titles.primary_title\n",
      "ORDER BY num_episodes DESC\n",
      "LIMIT 1;\u001b[0m\n",
      "SQLResult: \u001b[33;1m\u001b[1;3m[('NRK Nyheter', 18593)]\u001b[0m\n",
      "Answer:\u001b[32;1m\u001b[1;3mNRK Nyheter\u001b[0m\n",
      "\u001b[1m> Finished chain.\u001b[0m\n",
      "NRK Nyheter\n",
      "\n",
      "\n",
      "\u001b[1m> Entering new SQLDatabaseChain chain...\u001b[0m\n",
      "In how many horror movies did Sean Connery perform?\n",
      "SQLQuery:\u001b[32;1m\u001b[1;3mSELECT COUNT(*) FROM titles t\n",
      "INNER JOIN ratings r ON t.title_id = r.title_id\n",
      "INNER JOIN crew c ON t.title_id = c.title_id\n",
      "INNER JOIN people p ON c.person_id = p.person_id\n",
      "WHERE t.genres LIKE '%Horror%' AND p.name = 'Sean Connery' AND c.category IN ('actor', 'actress')\u001b[0m\n",
      "SQLResult: \u001b[33;1m\u001b[1;3m[(0,)]\u001b[0m\n",
      "Answer:\u001b[32;1m\u001b[1;3m0\u001b[0m\n",
      "\u001b[1m> Finished chain.\u001b[0m\n",
      "0\n",
      "\n",
      "\n",
      "\u001b[1m> Entering new SQLDatabaseChain chain...\u001b[0m\n",
      "What is the language of the movie 'Pulp Fiction'?\n",
      "SQLQuery:\u001b[32;1m\u001b[1;3mSELECT akas.language FROM akas INNER JOIN titles ON akas.title_id = titles.title_id WHERE titles.primary_title = 'Pulp Fiction' LIMIT 5\u001b[0m\n",
      "SQLResult: \u001b[33;1m\u001b[1;3m[(None,), (None,), (None,), (None,), (None,)]\u001b[0m\n",
      "Answer:\u001b[32;1m\u001b[1;3mNone\u001b[0m\n",
      "\u001b[1m> Finished chain.\u001b[0m\n",
      "None\n",
      "\n",
      "\n",
      "\u001b[1m> Entering new SQLDatabaseChain chain...\u001b[0m\n",
      "How many actors were born in the year 2001?\n",
      "SQLQuery:\u001b[32;1m\u001b[1;3mSELECT COUNT(*) FROM people WHERE born = 2001 AND person_id IN (SELECT person_id FROM crew WHERE category = 'actor')\u001b[0m\n",
      "SQLResult: \u001b[33;1m\u001b[1;3m[(539,)]\u001b[0m\n",
      "Answer:\u001b[32;1m\u001b[1;3m539\u001b[0m\n",
      "\u001b[1m> Finished chain.\u001b[0m\n",
      "539\n",
      "\n",
      "\n",
      "\u001b[1m> Entering new SQLDatabaseChain chain...\u001b[0m\n",
      "How many movies were released in the last year?\n",
      "SQLQuery:\u001b[32;1m\u001b[1;3mSELECT COUNT(*) FROM titles WHERE premiered = 2023 AND type = 'movie'\u001b[0m\n",
      "SQLResult: \u001b[33;1m\u001b[1;3m[(18337,)]\u001b[0m\n",
      "Answer:\u001b[32;1m\u001b[1;3m18337\u001b[0m\n",
      "\u001b[1m> Finished chain.\u001b[0m\n",
      "18337\n"
     ]
    }
   ],
   "source": [
    "questions = {\"How many movies were released in the last year?\", \n",
    "             \"How many actors were born in the year 2001?\", \n",
    "             \"What is the language of the movie 'Pulp Fiction'?\", \n",
    "             \"What is the series with the most episodes?\", \n",
    "             \"In how many horror movies did Sean Connery perform?\"}\n",
    "\n",
    "for question in questions:\n",
    "    result = db_chain_with_custom_prompt.invoke(question)\n",
    "    print(result['result'])"
   ]
  },
  {
   "cell_type": "markdown",
   "metadata": {},
   "source": [
    "Regarding the question \"What is the language of the movie 'Pulp Fiction'?\" it appears that the use of the column 'is_original_title' is still being avoided. \n",
    "\n",
    "My interpretation is that the question might not be well-written. It would be clearer to specify 'the original language' instead. For example, rephrasing the question as \"What is the original language of the movie 'Pulp Fiction'?\" would likely improve clarity."
   ]
  },
  {
   "cell_type": "code",
   "execution_count": 11,
   "metadata": {},
   "outputs": [
    {
     "name": "stdout",
     "output_type": "stream",
     "text": [
      "\n",
      "\n",
      "\u001b[1m> Entering new SQLDatabaseChain chain...\u001b[0m\n",
      "What is the original language of the movie \"Pulp Fiction\"?\n",
      "SQLQuery:\u001b[32;1m\u001b[1;3mSELECT akas.language FROM akas INNER JOIN titles ON akas.title_id = titles.title_id WHERE titles.original_title = \"Pulp Fiction\" AND akas.is_original_title = 1 LIMIT 5\u001b[0m\n",
      "SQLResult: \u001b[33;1m\u001b[1;3m[(None,)]\u001b[0m\n",
      "Answer:\u001b[32;1m\u001b[1;3mNone\u001b[0m\n",
      "\u001b[1m> Finished chain.\u001b[0m\n",
      "None\n"
     ]
    }
   ],
   "source": [
    "result = db_chain_with_custom_prompt.invoke('What is the original language of the movie \"Pulp Fiction\"?')\n",
    "print(result['result'])"
   ]
  },
  {
   "cell_type": "markdown",
   "metadata": {},
   "source": [
    "\n",
    "\n",
    "Initially, I attempted to utilize the SQL agent, attracted by its greater flexibility and advantages as described here: : https://python.langchain.com/docs/use_cases/qa_structured/sql#case-3-sql-agents. \n",
    "\n",
    "However, I experienced subpar results when compared to the SQLDatabaseChain. Also managing and updating prompts proved to be more complex with the SQL agent. As a result, I decided to continue with the 'SQLDatabaseChain."
   ]
  },
  {
   "cell_type": "code",
   "execution_count": 15,
   "metadata": {},
   "outputs": [],
   "source": [
    "from langchain.agents import create_sql_agent\n",
    "\n",
    "# from langchain.agents import AgentExecutor\n",
    "from langchain.agents.agent_types import AgentType\n",
    "from langchain_community.agent_toolkits import SQLDatabaseToolkit\n",
    "\n",
    "db1 = SQLDatabase.from_uri(\"sqlite:///imdb.db\")\n",
    "\n",
    "agent_executor = create_sql_agent(\n",
    "    llm=llm,\n",
    "    toolkit=SQLDatabaseToolkit(db=db1, llm=llm),\n",
    "    verbose=True,\n",
    "    agent_type=AgentType.ZERO_SHOT_REACT_DESCRIPTION,\n",
    "    handle_parsing_errors=True\n",
    ")\n"
   ]
  },
  {
   "cell_type": "code",
   "execution_count": 66,
   "metadata": {},
   "outputs": [
    {
     "name": "stdout",
     "output_type": "stream",
     "text": [
      "\n",
      "\n",
      "\u001b[1m> Entering new AgentExecutor chain...\u001b[0m\n",
      "\u001b[32;1m\u001b[1;3mAction: sql_db_list_tables\n",
      "Action Input: \u001b[0m\n",
      "Observation: \u001b[38;5;200m\u001b[1;3makas, crew, episodes, people, ratings, titles\u001b[0m\n",
      "Thought:\u001b[32;1m\u001b[1;3m I should query the schema of the titles table to see what columns I can use.\n",
      "Action: sql_db_schema\n",
      "Action Input: titles\u001b[0m\n",
      "Observation: \u001b[33;1m\u001b[1;3m\n",
      "CREATE TABLE titles (\n",
      "\ttitle_id VARCHAR, \n",
      "\ttype VARCHAR, \n",
      "\tprimary_title VARCHAR, \n",
      "\toriginal_title VARCHAR, \n",
      "\tis_adult INTEGER, \n",
      "\tpremiered INTEGER, \n",
      "\tended INTEGER, \n",
      "\truntime_minutes INTEGER, \n",
      "\tgenres VARCHAR, \n",
      "\tPRIMARY KEY (title_id)\n",
      ")\n",
      "\n",
      "/*\n",
      "3 rows from titles table:\n",
      "title_id\ttype\tprimary_title\toriginal_title\tis_adult\tpremiered\tended\truntime_minutes\tgenres\n",
      "tt0000001\tshort\tCarmencita\tCarmencita\t0\t1894\tNone\t1\tDocumentary,Short\n",
      "tt0000002\tshort\tLe clown et ses chiens\tLe clown et ses chiens\t0\t1892\tNone\t5\tAnimation,Short\n",
      "tt0000003\tshort\tPauvre Pierrot\tPauvre Pierrot\t0\t1892\tNone\t4\tAnimation,Comedy,Romance\n",
      "*/\u001b[0m\n",
      "Thought:\u001b[32;1m\u001b[1;3m I should query the primary_title column from the titles table for the movie 'Pulp Fiction'.\n",
      "Action: sql_db_query\n",
      "Action Input: SELECT primary_title FROM titles WHERE original_title = 'Pulp Fiction' LIMIT 10\u001b[0m\n",
      "Observation: \u001b[36;1m\u001b[1;3m[('Pulp Fiction',), ('Pulp Fiction',), ('Pulp Fiction',), ('Pulp Fiction',), ('Pulp Fiction',), ('Pulp Fiction',), ('Pulp Fiction',), ('Pulp Fiction',), ('Pulp Fiction',), ('Pulp Fiction',)]\u001b[0m\n",
      "Thought:\u001b[32;1m\u001b[1;3m I now know the final answer\n",
      "Final Answer: Pulp Fiction\u001b[0m\n",
      "\n",
      "\u001b[1m> Finished chain.\u001b[0m\n"
     ]
    },
    {
     "data": {
      "text/plain": [
       "{'input': \"What is the language of the movie 'Pulp Fiction'?\",\n",
       " 'output': 'Pulp Fiction'}"
      ]
     },
     "execution_count": 66,
     "metadata": {},
     "output_type": "execute_result"
    }
   ],
   "source": [
    "agent_executor.invoke(\"What is the language of the movie 'Pulp Fiction'?\")"
   ]
  }
 ],
 "metadata": {
  "kernelspec": {
   "display_name": "nev",
   "language": "python",
   "name": "python3"
  },
  "language_info": {
   "codemirror_mode": {
    "name": "ipython",
    "version": 3
   },
   "file_extension": ".py",
   "mimetype": "text/x-python",
   "name": "python",
   "nbconvert_exporter": "python",
   "pygments_lexer": "ipython3",
   "version": "3.9.10"
  }
 },
 "nbformat": 4,
 "nbformat_minor": 2
}
